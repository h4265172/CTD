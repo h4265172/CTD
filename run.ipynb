import numpy as np
import torch
import torch.optim as optim
import matplotlib.pyplot as plt
import pandas as pd
import copy
import os
from statsmodels.tsa.arima.model import ARIMA

import util
import CTD
import data_generator
